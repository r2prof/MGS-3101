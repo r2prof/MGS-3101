{
 "cells": [
  {
   "cell_type": "code",
   "execution_count": null,
   "id": "fed221ea",
   "metadata": {},
   "outputs": [],
   "source": [
    "# Step 1: Import necessary libraries\n",
    "import pandas as pd\n",
    "from sklearn.model_selection import train_test_split\n",
    "from sklearn.tree import DecisionTreeClassifier, export_text, plot_tree\n",
    "from sklearn.metrics import accuracy_score\n",
    "import matplotlib.pyplot as plt"
   ]
  },
  {
   "cell_type": "code",
   "execution_count": null,
   "id": "f00c53fb",
   "metadata": {},
   "outputs": [],
   "source": [
    "# Load dataset\n",
    "df = pd.read_csv(\"breast_cancer.csv\")"
   ]
  },
  {
   "cell_type": "code",
   "execution_count": null,
   "id": "a60519f1",
   "metadata": {},
   "outputs": [],
   "source": [
    "# Display the first few rows of the combined DataFrame\n",
    "df.head()"
   ]
  },
  {
   "cell_type": "code",
   "execution_count": 4,
   "id": "cf812de2",
   "metadata": {},
   "outputs": [],
   "source": [
    "# Step 3: Preprocess the dataset\n",
    "# Replace missing values (marked as '?') with NaN and drop rows with missing values\n",
    "df.replace('?', pd.NA, inplace=True)\n",
    "df.dropna(inplace=True)"
   ]
  },
  {
   "cell_type": "code",
   "execution_count": null,
   "id": "1653667d",
   "metadata": {},
   "outputs": [],
   "source": [
    "# Check for missing values\n",
    "print(df.isnull().sum())"
   ]
  },
  {
   "cell_type": "code",
   "execution_count": 6,
   "id": "3b8b1d8d",
   "metadata": {},
   "outputs": [],
   "source": [
    "# Map the 'Class' column: 2 (benign) -> 0, 4 (malignant) -> 1\n",
    "df['Class'] = df['Class'].map({2: 0, 4: 1})"
   ]
  },
  {
   "cell_type": "code",
   "execution_count": null,
   "id": "43dc858b",
   "metadata": {},
   "outputs": [],
   "source": [
    "df.head(10)"
   ]
  },
  {
   "cell_type": "code",
   "execution_count": 8,
   "id": "f8b365b0",
   "metadata": {},
   "outputs": [],
   "source": [
    "# Step 4: Define features (X) and target variable (y)\n",
    "X = df.drop(columns=['Class'])  # All features except the target\n",
    "y = df['Class']  # Target variable (0: benign, 1: malignant)"
   ]
  },
  {
   "cell_type": "code",
   "execution_count": 9,
   "id": "7e13aa38",
   "metadata": {},
   "outputs": [],
   "source": [
    "# Step 5: Split the data into training and testing sets\n",
    "X_train, X_test, y_train, y_test = train_test_split(X, y, test_size=0.3, random_state=42, stratify=y)"
   ]
  },
  {
   "cell_type": "code",
   "execution_count": 10,
   "id": "6947cd8c",
   "metadata": {},
   "outputs": [],
   "source": [
    "# Step 6: Initialize the decision tree classifier\n",
    "clf = DecisionTreeClassifier(max_depth=3, random_state=42)"
   ]
  },
  {
   "cell_type": "code",
   "execution_count": null,
   "id": "0937d745",
   "metadata": {},
   "outputs": [],
   "source": [
    "# Step 7: Train the model on the training set\n",
    "clf.fit(X_train, y_train)"
   ]
  },
  {
   "cell_type": "code",
   "execution_count": null,
   "id": "a52c44ce",
   "metadata": {},
   "outputs": [],
   "source": [
    "# Step 8: Evaluate the model on the testing set\n",
    "y_pred = clf.predict(X_test)\n",
    "accuracy = accuracy_score(y_test, y_pred)\n",
    "print(f\"Accuracy of the Decision Tree Classifier: {accuracy * 100:.2f}%\")"
   ]
  },
  {
   "cell_type": "code",
   "execution_count": null,
   "id": "0ef2668d",
   "metadata": {},
   "outputs": [],
   "source": [
    "# Step 9: Visualize the Decision Tree with Higher Resolution\n",
    "plt.figure(figsize=(15, 10), dpi=1200)  # Larger figure size and higher resolution\n",
    "plot_tree(\n",
    "    clf,  # The trained classifier\n",
    "    feature_names=X.columns,  # Feature names from the dataset\n",
    "    class_names=[\"Benign\", \"Malignant\"],  # Class names from the dataset\n",
    "    filled=True,  # Use colors to represent classes\n",
    "    fontsize=10  # Font size for better readability\n",
    ")\n",
    "plt.title(\"Decision Tree for Breast Cancer Classification\", fontsize=16)\n",
    "plt.show()"
   ]
  },
  {
   "cell_type": "code",
   "execution_count": null,
   "id": "1671ce96",
   "metadata": {},
   "outputs": [],
   "source": [
    "# Step 10: Display the tree structure in text format\n",
    "tree_rules = export_text(clf, feature_names=list(X.columns))\n",
    "print(\"Decision Tree Rules:\")\n",
    "print(tree_rules)"
   ]
  },
  {
   "cell_type": "markdown",
   "id": "6ea8b243",
   "metadata": {},
   "source": [
    "# Decision Tree Explanation\n",
    "\n",
    "This document explains how the decision tree works, which variables were used, and the rules applied at each decision point.\n",
    "\n",
    "---\n",
    "\n",
    "## Overview\n",
    "\n",
    "The decision tree is a classification model that predicts a class label (`class: 0` or `class: 1`) based on several variables. At each step, the tree makes decisions by applying thresholds to variables and branching accordingly.\n",
    "\n",
    "---\n",
    "\n",
    "## Variables and Decision Rules\n",
    "\n",
    "### 1. **Root Node: Uniformity_of_cell_size**\n",
    "- The root node splits the data based on **Uniformity_of_cell_size**:\n",
    "  - If `Uniformity_of_cell_size <= 3.50`, follow the left branch.\n",
    "  - If `Uniformity_of_cell_size > 3.50`, follow the right branch.\n",
    "\n",
    "### 2. **Left Branch (Uniformity_of_cell_size <= 3.50)**\n",
    "- The next decision depends on **Bare_nuclei**:\n",
    "  - **If Bare_nuclei <= 5.50**:\n",
    "    - Check **Normall_nucleoli**:\n",
    "      - If `Normall_nucleoli <= 3.50`: Predict **class: 0**.\n",
    "      - If `Normall_nucleoli > 3.50`: Predict **class: 1**.\n",
    "  - **If Bare_nuclei > 5.50**:\n",
    "    - Check **Clump_thickness**:\n",
    "      - If `Clump_thickness <= 2.00`: Predict **class: 0**.\n",
    "      - If `Clump_thickness > 2.00`: Predict **class: 1**.\n",
    "\n",
    "### 3. **Right Branch (Uniformity_of_cell_size > 3.50)**\n",
    "- The next decision depends on whether **Uniformity_of_cell_size** is between 3.50 and 4.50:\n",
    "  - **If Uniformity_of_cell_size <= 4.50**:\n",
    "    - Check **Bare_nuclei**:\n",
    "      - If `Bare_nuclei <= 7.50`: Predict **class: 0**.\n",
    "      - If `Bare_nuclei > 7.50`: Predict **class: 1**.\n",
    "  - **If Uniformity_of_cell_size > 4.50**:\n",
    "    - Check **Marginal_adhesion**:\n",
    "      - If `Marginal_adhesion <= 1.50`: Predict **class: 1**.\n",
    "      - If `Marginal_adhesion > 1.50`: Predict **class: 1**.\n",
    "\n",
    "---\n",
    "\n",
    "## Summary of Decision Process\n",
    "\n",
    "1. **Variable Selection**:\n",
    "   - The tree begins by splitting on **Uniformity_of_cell_size**, indicating it has the highest predictive power.\n",
    "   - Subsequent splits involve **Bare_nuclei**, **Normall_nucleoli**, **Clump_thickness**, and **Marginal_adhesion**.\n",
    "\n",
    "2. **Class Assignment**:\n",
    "   - Each leaf node represents a terminal decision where a class is assigned based on the rules applied.\n",
    "\n",
    "3. **Predictions**:\n",
    "   - **Class 0**: Typically corresponds to one category (e.g., \"benign\").\n",
    "   - **Class 1**: Typically corresponds to the other category (e.g., \"malignant\").\n",
    "\n",
    "---\n",
    "\n",
    "## How the Tree Works\n",
    "The decision tree works by:\n",
    "- Splitting the dataset at each node using threshold rules.\n",
    "- Branching left or right based on whether the condition is met.\n",
    "- Assigning a class at the leaf nodes, based on the subset of data reaching that point.\n",
    "\n",
    "Each decision refines the predictions by narrowing down possibilities, ensuring the most accurate classification.\n",
    "\n",
    "---\n"
   ]
  },
  {
   "cell_type": "markdown",
   "id": "50ce1993",
   "metadata": {},
   "source": [
    "##### The End"
   ]
  }
 ],
 "metadata": {
  "kernelspec": {
   "display_name": "dev",
   "language": "python",
   "name": "python3"
  },
  "language_info": {
   "codemirror_mode": {
    "name": "ipython",
    "version": 3
   },
   "file_extension": ".py",
   "mimetype": "text/x-python",
   "name": "python",
   "nbconvert_exporter": "python",
   "pygments_lexer": "ipython3",
   "version": "3.11.10"
  }
 },
 "nbformat": 4,
 "nbformat_minor": 5
}
