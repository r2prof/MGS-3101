{
 "cells": [
  {
   "cell_type": "markdown",
   "metadata": {},
   "source": [
    "### Market Basket Analysis"
   ]
  },
  {
   "cell_type": "code",
   "execution_count": 1,
   "metadata": {},
   "outputs": [],
   "source": [
    "import pandas as pd\n",
    "from mlxtend.frequent_patterns import apriori, association_rules"
   ]
  },
  {
   "cell_type": "code",
   "execution_count": 2,
   "metadata": {},
   "outputs": [],
   "source": [
    "# Sample transaction dataset\n",
    "data = [\n",
    "    ['Milk', 'Bread', 'Butter'],\n",
    "    ['Bread', 'Butter'],\n",
    "    ['Milk', 'Bread'],\n",
    "    ['Milk', 'Butter'],\n",
    "    ['Bread', 'Butter', 'Eggs'],\n",
    "    ['Milk', 'Eggs'],\n",
    "    ['Milk', 'Bread', 'Eggs'],\n",
    "]"
   ]
  },
  {
   "cell_type": "code",
   "execution_count": 3,
   "metadata": {},
   "outputs": [],
   "source": [
    "# Convert transactions into one-hot encoding format\n",
    "unique_items = sorted(set(item for transaction in data for item in transaction))\n",
    "encoded_data = [{item: (item in transaction) for item in unique_items} for transaction in data]"
   ]
  },
  {
   "cell_type": "code",
   "execution_count": 5,
   "metadata": {},
   "outputs": [
    {
     "data": {
      "text/html": [
       "<div>\n",
       "<style scoped>\n",
       "    .dataframe tbody tr th:only-of-type {\n",
       "        vertical-align: middle;\n",
       "    }\n",
       "\n",
       "    .dataframe tbody tr th {\n",
       "        vertical-align: top;\n",
       "    }\n",
       "\n",
       "    .dataframe thead th {\n",
       "        text-align: right;\n",
       "    }\n",
       "</style>\n",
       "<table border=\"1\" class=\"dataframe\">\n",
       "  <thead>\n",
       "    <tr style=\"text-align: right;\">\n",
       "      <th></th>\n",
       "      <th>Bread</th>\n",
       "      <th>Butter</th>\n",
       "      <th>Eggs</th>\n",
       "      <th>Milk</th>\n",
       "    </tr>\n",
       "  </thead>\n",
       "  <tbody>\n",
       "    <tr>\n",
       "      <th>0</th>\n",
       "      <td>True</td>\n",
       "      <td>True</td>\n",
       "      <td>False</td>\n",
       "      <td>True</td>\n",
       "    </tr>\n",
       "    <tr>\n",
       "      <th>1</th>\n",
       "      <td>True</td>\n",
       "      <td>True</td>\n",
       "      <td>False</td>\n",
       "      <td>False</td>\n",
       "    </tr>\n",
       "    <tr>\n",
       "      <th>2</th>\n",
       "      <td>True</td>\n",
       "      <td>False</td>\n",
       "      <td>False</td>\n",
       "      <td>True</td>\n",
       "    </tr>\n",
       "    <tr>\n",
       "      <th>3</th>\n",
       "      <td>False</td>\n",
       "      <td>True</td>\n",
       "      <td>False</td>\n",
       "      <td>True</td>\n",
       "    </tr>\n",
       "    <tr>\n",
       "      <th>4</th>\n",
       "      <td>True</td>\n",
       "      <td>True</td>\n",
       "      <td>True</td>\n",
       "      <td>False</td>\n",
       "    </tr>\n",
       "  </tbody>\n",
       "</table>\n",
       "</div>"
      ],
      "text/plain": [
       "   Bread  Butter   Eggs   Milk\n",
       "0   True    True  False   True\n",
       "1   True    True  False  False\n",
       "2   True   False  False   True\n",
       "3  False    True  False   True\n",
       "4   True    True   True  False"
      ]
     },
     "execution_count": 5,
     "metadata": {},
     "output_type": "execute_result"
    }
   ],
   "source": [
    "df = pd.DataFrame(encoded_data)\n",
    "df.head()"
   ]
  },
  {
   "cell_type": "code",
   "execution_count": 6,
   "metadata": {},
   "outputs": [],
   "source": [
    "# Apply Apriori algorithm\n",
    "frequent_itemsets = apriori(df, min_support=0.3, use_colnames=True)\n",
    "rules = association_rules(frequent_itemsets, metric=\"lift\", min_threshold=1.0)"
   ]
  },
  {
   "cell_type": "code",
   "execution_count": 7,
   "metadata": {},
   "outputs": [
    {
     "name": "stdout",
     "output_type": "stream",
     "text": [
      "Frequent Itemsets:\n",
      "     support         itemsets\n",
      "0  0.714286          (Bread)\n",
      "1  0.571429         (Butter)\n",
      "2  0.428571           (Eggs)\n",
      "3  0.714286           (Milk)\n",
      "4  0.428571  (Butter, Bread)\n",
      "5  0.428571    (Milk, Bread)\n",
      "\n",
      "Association Rules:\n",
      "   antecedents consequents  antecedent support  consequent support   support  \\\n",
      "0    (Butter)     (Bread)            0.571429            0.714286  0.428571   \n",
      "1     (Bread)    (Butter)            0.714286            0.571429  0.428571   \n",
      "\n",
      "   confidence  lift  representativity  leverage  conviction  zhangs_metric  \\\n",
      "0        0.75  1.05               1.0  0.020408    1.142857       0.111111   \n",
      "1        0.60  1.05               1.0  0.020408    1.071429       0.166667   \n",
      "\n",
      "   jaccard  certainty  kulczynski  \n",
      "0      0.5   0.125000       0.675  \n",
      "1      0.5   0.066667       0.675  \n"
     ]
    }
   ],
   "source": [
    "# Display results\n",
    "print(\"Frequent Itemsets:\\n\", frequent_itemsets)\n",
    "print(\"\\nAssociation Rules:\\n\", rules)\n"
   ]
  }
 ],
 "metadata": {
  "kernelspec": {
   "display_name": "dev",
   "language": "python",
   "name": "python3"
  },
  "language_info": {
   "codemirror_mode": {
    "name": "ipython",
    "version": 3
   },
   "file_extension": ".py",
   "mimetype": "text/x-python",
   "name": "python",
   "nbconvert_exporter": "python",
   "pygments_lexer": "ipython3",
   "version": "3.11.11"
  }
 },
 "nbformat": 4,
 "nbformat_minor": 2
}
